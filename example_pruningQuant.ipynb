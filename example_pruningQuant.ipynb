{
 "cells": [
  {
   "cell_type": "code",
   "execution_count": 1,
   "metadata": {},
   "outputs": [],
   "source": [
    "import numpy as np\n",
    "import rosenpymodel.cvffnn as mynn\n",
    "import dataset.beamforming as dt\n",
    "import rosenpymodel.rpoptimizer as opt\n",
    "from rputils import actFunc, initFunc\n",
    "import pruningQuant \n"
   ]
  },
  {
   "cell_type": "code",
   "execution_count": 2,
   "metadata": {},
   "outputs": [],
   "source": [
    "def setData():\n",
    "    \"\"\"\n",
    "    Set up the data for training.\n",
    "\n",
    "    Returns:\n",
    "        tuple: Tuple containing the normalized input and output datasets.\n",
    "    \"\"\"\n",
    "    f = 850e6\n",
    "    SINRdB = 20\n",
    "    SNRdBs = 25\n",
    "    SNRdBi = 20\n",
    "    phi = [1, 60, 90, 120, 160, 200, 240, 260, 280, 300, 330]\n",
    "    theta = [90, 90, 90, 90, 90, 90, 90, 90, 90, 90, 90]\n",
    "    desired = [1, 0, 0, 1, 0, 0, 1, 0, 0, 0, 0]\n",
    "    modulation = [\"QAM\", \"WGN\", \"QAM\", \"PSK\", \"QAM\", \"WGN\", \"QAM\", \"WGN\", \"QAM\", \"PSK\", \"PSK\"]\n",
    "    Mmod = [4, 0, 64, 8, 256, 0, 16, 0, 64, 16, 8]\n",
    "\n",
    "    lenData = int(1e4)\n",
    "\n",
    "    # Converting 'desired' to a NumPy array\n",
    "    desired = np.array(desired)\n",
    "\n",
    "    \n",
    "    # Calling the create_dataset_beam function\n",
    "    SetIn, SetOut = dt.create_dataset_beam(modulation, Mmod, f, phi, theta, desired, lenData, SINRdB, SNRdBs, SNRdBi)\n",
    "    \n",
    "    return SetIn, SetOut\n",
    "\n",
    "###############################################################################################################\n",
    "###############################################################################################################\n",
    "\n",
    "\n",
    "# Initialize input_data and output_data using the setData function\n",
    "input_data, output_data = setData()\n",
    "\n",
    "input_dim, output_dim = input_data.shape[1], output_data.shape[1]"
   ]
  },
  {
   "cell_type": "code",
   "execution_count": null,
   "metadata": {},
   "outputs": [],
   "source": [
    "\n",
    "nn = mynn.CVFFNN()\n",
    "nn.addLayer(ishape=input_dim, neurons=20, \n",
    "            weights_initializer=initFunc.random_normal, \n",
    "            bias_initializer=initFunc.random_normal, \n",
    "            activation=actFunc.tanh)\n",
    "nn.addLayer(neurons=10, \n",
    "            weights_initializer=initFunc.random_normal, \n",
    "            bias_initializer=initFunc.random_normal, \n",
    "            activation=actFunc.tanh)\n",
    "nn.addLayer(neurons=20, \n",
    "            weights_initializer=initFunc.random_normal, \n",
    "            bias_initializer=initFunc.random_normal, \n",
    "            activation=actFunc.tanh)\n",
    "nn.addLayer(neurons=10, \n",
    "            weights_initializer=initFunc.random_normal, \n",
    "            bias_initializer=initFunc.random_normal, \n",
    "            activation=actFunc.tanh)\n",
    "nn.addLayer(neurons=output_dim, \n",
    "            weights_initializer=initFunc.random_normal, \n",
    "            bias_initializer=initFunc.random_normal, \n",
    "            activation=actFunc.tanh)\n"
   ]
  },
  {
   "cell_type": "code",
   "execution_count": 4,
   "metadata": {},
   "outputs": [],
   "source": [
    "nn.fit(input_data, output_data, epochs=500, verbose=100, batch_size=100, optimizer=opt.CVAdamax())"
   ]
  },
  {
   "cell_type": "code",
   "execution_count": null,
   "metadata": {},
   "outputs": [],
   "source": [
    "y_pred = nn.predict(input_data)\n",
    "print('Accuracy: training {:.2f}%'.format(nn.accuracy(output_data, y_pred)))"
   ]
  },
  {
   "cell_type": "code",
   "execution_count": 6,
   "metadata": {},
   "outputs": [],
   "source": [
    "weights = pruningQuant.getWeightsFlat(nn)"
   ]
  },
  {
   "cell_type": "code",
   "execution_count": null,
   "metadata": {},
   "outputs": [],
   "source": [
    "\n",
    "pruningQuant.changeWeightsFlat(nn, weights)\n",
    "pruningQuant.thresholdMagntudeBasedPruning(nn, 0.3, 0.9)\n",
    "y_pred = nn.predict(input_data)\n",
    "print('Accuracy: training {:.2f}%'.format(nn.accuracy(output_data, y_pred)))"
   ]
  },
  {
   "cell_type": "code",
   "execution_count": null,
   "metadata": {},
   "outputs": [],
   "source": [
    "pruningQuant.changeWeightsFlat(nn, weights)\n",
    "pruningQuant.mixedPruningShell(nn, 0.3, 0.8)\n",
    "y_pred = nn.predict(input_data)\n",
    "print('Accuracy: training {:.2f}%'.format(nn.accuracy(output_data, y_pred)))"
   ]
  },
  {
   "cell_type": "code",
   "execution_count": null,
   "metadata": {},
   "outputs": [],
   "source": [
    "pruningQuant.changeWeightsFlat(nn, weights)\n",
    "pruningQuant.quantizeShell(nn, 8, -1, 1)\n",
    "y_pred = nn.predict(input_data)\n",
    "print('Accuracy: training {:.2f}%'.format(nn.accuracy(output_data, y_pred)))"
   ]
  }
 ],
 "metadata": {
  "kernelspec": {
   "display_name": "Python 3",
   "language": "python",
   "name": "python3"
  },
  "language_info": {
   "codemirror_mode": {
    "name": "ipython",
    "version": 3
   },
   "file_extension": ".py",
   "mimetype": "text/x-python",
   "name": "python",
   "nbconvert_exporter": "python",
   "pygments_lexer": "ipython3",
   "version": "3.10.12"
  }
 },
 "nbformat": 4,
 "nbformat_minor": 2
}
